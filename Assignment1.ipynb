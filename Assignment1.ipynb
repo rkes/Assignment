{
 "cells": [
  {
   "cell_type": "code",
   "execution_count": 1,
   "metadata": {},
   "outputs": [],
   "source": [
    "from scipy import stats\n",
    "import numpy as np\n",
    "import collections\n",
    "from math import factorial, log10\n",
    "import math"
   ]
  },
  {
   "cell_type": "code",
   "execution_count": 18,
   "metadata": {},
   "outputs": [],
   "source": [
    "BENFORD_percentage = [30.1, 17.6, 12.5, 9.7, 7.9, 6.7, 5.8, 5.1, 4.6]\n",
    "BENFORD_percentage_2ndDigit = [12.0,11.4,10.9,10.4,10,9.7,9.3,9.0,8.8,8.5]\n",
    "BENFORD_PROBABILITY_1And2Digit=[]\n",
    "for d1 in BENFORD_percentage:\n",
    "    for d2 in  BENFORD_percentage_2ndDigit:\n",
    "        BENFORD_PROBABILITY_1And2Digit.append(float(d1*d2)/float(100))\n",
    "def get_expected_counts(total_count):\n",
    "    return [round(p * total_count / 100) for p in BENFORD_percentage]\n",
    "\n",
    "def get_expected_counts_second_order(total_count):\n",
    "    return [round(p * total_count / 100) for p in BENFORD_PROBABILITY_1And2Digit]\n",
    "\n",
    "def getDigitFrequenctPercentage(data):\n",
    "    firstDigit = list(map(lambda n:str(n)[0],data))\n",
    "    firstDigitFreq = collections.Counter(firstDigit)\n",
    "    resDict = {};\n",
    "    cnt =0;\n",
    "    for i in range(1,10):\n",
    "        if firstDigitFreq[str(i)] > 0:\n",
    "            resDict[i]=(firstDigitFreq[str(i)]/len(data))*100;\n",
    "            cnt = cnt + firstDigitFreq[str(i)];\n",
    "    resDict['Count']=cnt;\n",
    "    \n",
    "    return resDict\n",
    "\n",
    "def getSecondDigitFrequencyPercentage(data):\n",
    "    resDict2={};\n",
    "    cnt =0;\n",
    "    for i in range(10,100):\n",
    "        resDict2[i]={'Count':0,'Expected_Percentage':0};    \n",
    "    for n in data:\n",
    "        if int(n) <10:\n",
    "            continue;\n",
    "        num = str(n)[0]+str(n)[1]\n",
    "        num=int(num)\n",
    "        resDict2[num]['Count'] = resDict2[num]['Count']+1\n",
    "        resDict2[num]['Expected_Percentage'] = abs(math.log10(1+1/num))*100\n",
    "        \n",
    "    for n in data:\n",
    "        if int(n) <10:\n",
    "            continue;\n",
    "        num = str(n)[0]+str(n)[1]\n",
    "        num=int(num)\n",
    "       \n",
    "        if resDict2[num]['Count'] > 0:\n",
    "            resDict2[num]['Caculated_Percentage'] = (resDict2[int(num)]['Count']/len(data))*100;\n",
    "            cnt = resDict2[num]['Count']+1\n",
    "        \n",
    "    resDict2['Count']=cnt;\n",
    "    return resDict2;\n",
    "\n",
    "def chi_square_test(data_count,expected_counts):\n",
    "    chi_square_stat = 0 \n",
    "    for data, expected in zip(data_count,expected_counts):\n",
    "        if (expected >0) and (type(expected) is int):\n",
    "            chi_square = math.pow(data - expected, 2)\n",
    "            chi_square_stat += chi_square / expected\n",
    "\n",
    "    print(\"\\nChi-squared Test Statistic = {:.3f}\".format(chi_square_stat))\n",
    "    print(\"Critical value at a P-value of 0.05 is 15.51.\")    \n",
    "    return chi_square_stat < 15.51\n",
    "\n",
    "def convertDictToList(dict_var):\n",
    "    calc_array = np.array([0,0,0,0,0,0,0,0,0]);\n",
    "    cnt =0;\n",
    "    for calc in dict_var.keys():\n",
    "        if type(calc) is int:\n",
    "            calc_array[cnt] = dict_var[calc]\n",
    "            cnt = cnt+1\n",
    "    return calc_array;\n",
    "\n",
    "def convertDictToListForSecondDigitTest(dict_var):\n",
    "    calc_array = np.zeros(90)\n",
    "    cnt =0;\n",
    "    for calc in dict_var.keys():\n",
    "        if calc =='Count':\n",
    "            continue;\n",
    "        try:    \n",
    "            calc_array[cnt] = dict_var[calc]['Caculated_Percentage']\n",
    "        except KeyError :\n",
    "            calc_array[cnt] =0\n",
    "        cnt = cnt+1\n",
    "    return calc_array;"
   ]
  },
  {
   "cell_type": "code",
   "execution_count": 87,
   "metadata": {
    "collapsed": true
   },
   "outputs": [
    {
     "data": {
      "text/plain": [
       "[3.6120000000000005,\n",
       " 3.4314000000000004,\n",
       " 3.2809000000000004,\n",
       " 3.1304000000000003,\n",
       " 3.01,\n",
       " 2.9196999999999997,\n",
       " 2.7993,\n",
       " 2.7090000000000005,\n",
       " 2.6488000000000005,\n",
       " 2.5585000000000004,\n",
       " 2.112,\n",
       " 2.0064,\n",
       " 1.9184000000000003,\n",
       " 1.8304000000000002,\n",
       " 1.76,\n",
       " 1.7072,\n",
       " 1.6368000000000003,\n",
       " 1.584,\n",
       " 1.5488000000000002,\n",
       " 1.4960000000000002,\n",
       " 1.5,\n",
       " 1.425,\n",
       " 1.3625,\n",
       " 1.3,\n",
       " 1.25,\n",
       " 1.2125,\n",
       " 1.1625,\n",
       " 1.125,\n",
       " 1.1,\n",
       " 1.0625,\n",
       " 1.164,\n",
       " 1.1058,\n",
       " 1.0573,\n",
       " 1.0088,\n",
       " 0.97,\n",
       " 0.9408999999999998,\n",
       " 0.9020999999999999,\n",
       " 0.873,\n",
       " 0.8536,\n",
       " 0.8244999999999999,\n",
       " 0.9480000000000001,\n",
       " 0.9006000000000001,\n",
       " 0.8611000000000001,\n",
       " 0.8216000000000001,\n",
       " 0.79,\n",
       " 0.7663,\n",
       " 0.7347000000000001,\n",
       " 0.7110000000000001,\n",
       " 0.6952000000000002,\n",
       " 0.6715000000000001,\n",
       " 0.804,\n",
       " 0.7638000000000001,\n",
       " 0.7303000000000001,\n",
       " 0.6968000000000001,\n",
       " 0.67,\n",
       " 0.6498999999999999,\n",
       " 0.6231000000000001,\n",
       " 0.6030000000000001,\n",
       " 0.5896000000000001,\n",
       " 0.5695,\n",
       " 0.696,\n",
       " 0.6612,\n",
       " 0.6322,\n",
       " 0.6032,\n",
       " 0.58,\n",
       " 0.5625999999999999,\n",
       " 0.5394000000000001,\n",
       " 0.5219999999999999,\n",
       " 0.5104,\n",
       " 0.493,\n",
       " 0.612,\n",
       " 0.5814,\n",
       " 0.5559,\n",
       " 0.5304,\n",
       " 0.51,\n",
       " 0.4946999999999999,\n",
       " 0.4743,\n",
       " 0.45899999999999996,\n",
       " 0.44880000000000003,\n",
       " 0.43349999999999994,\n",
       " 0.5519999999999999,\n",
       " 0.5244,\n",
       " 0.5014,\n",
       " 0.47839999999999994,\n",
       " 0.46,\n",
       " 0.44619999999999993,\n",
       " 0.4278,\n",
       " 0.414,\n",
       " 0.4048,\n",
       " 0.39099999999999996]"
      ]
     },
     "execution_count": 87,
     "metadata": {},
     "output_type": "execute_result"
    }
   ],
   "source": [
    "BENFORD_PROBABILITY_1And2Digit"
   ]
  },
  {
   "cell_type": "code",
   "execution_count": 23,
   "metadata": {},
   "outputs": [
    {
     "name": "stdout",
     "output_type": "stream",
     "text": [
      "\n",
      " **** FIRST ORDER BENFORD *********************\n",
      "\n",
      "Chi-squared Test Statistic = 2.804\n",
      "Critical value at a P-value of 0.05 is 15.51.\n",
      "Chi Squared Test  True \n",
      "MAD VALUE :  1.0\n",
      "******************************\n",
      "\n",
      " **** Second ORDER BENFORD *********************\n",
      "\n",
      "Chi-squared Test Statistic = 0.000\n",
      "Critical value at a P-value of 0.05 is 15.51.\n",
      "Chi Squared Test  True \n",
      "MAD Value  6.0\n"
     ]
    }
   ],
   "source": [
    "print(\"\\n **** FIRST ORDER BENFORD *********************\")\n",
    "resDict = getDigitFrequenctPercentage(fibo)\n",
    "expectedCount = get_expected_counts(resDict['Count'])\n",
    "Mad_array=abs((convertDictToList(resDict)-BENFORD_percentage))/10\n",
    "print(\"Chi Squared Test \",chi_square_test(convertDictToList(resDict),expectedCount),\"\\nMAD VALUE : \",round(Mad_array.sum()))\n",
    "print(\"******************************\")\n",
    "print(\"\\n **** Second ORDER BENFORD *********************\")\n",
    "resDictSecondOrder = getSecondDigitFrequencyPercentage(fibo)\n",
    "expectedCountSecondOrder = get_expected_counts_second_order(resDictSecondOrder['Count'])\n",
    "Mad_array=abs((convertDictToListForSecondDigitTest(resDictSecondOrder)-BENFORD_PROBABILITY_1And2Digit))/10\n",
    "MadValue = round(Mad_array.sum());\n",
    "print(\"Chi Squared Test \",chi_square_test(convertDictToListForSecondDigitTest(resDictSecondOrder),expectedCountSecondOrder),\"\\nMAD Value \",MadValue)\n"
   ]
  },
  {
   "cell_type": "code",
   "execution_count": 15,
   "metadata": {
    "collapsed": true
   },
   "outputs": [
    {
     "name": "stdout",
     "output_type": "stream",
     "text": [
      "13 ***  13\n",
      "21 ***  21\n",
      "34 ***  34\n",
      "55 ***  55\n",
      "89 ***  89\n",
      "14 ***  144\n",
      "23 ***  233\n",
      "37 ***  377\n",
      "61 ***  610\n",
      "98 ***  987\n",
      "15 ***  1597\n",
      "25 ***  2584\n",
      "41 ***  4181\n",
      "67 ***  6765\n",
      "10 ***  10946\n",
      "17 ***  17711\n",
      "28 ***  28657\n",
      "46 ***  46368\n",
      "75 ***  75025\n",
      "12 ***  121393\n",
      "19 ***  196418\n",
      "31 ***  317811\n",
      "51 ***  514229\n",
      "83 ***  832040\n",
      "13 ***  1346269\n",
      "21 ***  2178309\n",
      "35 ***  3524578\n",
      "57 ***  5702887\n",
      "92 ***  9227465\n",
      "14 ***  14930352\n",
      "24 ***  24157817\n",
      "39 ***  39088169\n",
      "63 ***  63245986\n",
      "10 ***  102334155\n",
      "16 ***  165580141\n",
      "26 ***  267914296\n",
      "43 ***  433494437\n",
      "70 ***  701408733\n",
      "11 ***  1134903170\n",
      "18 ***  1836311903\n",
      "29 ***  2971215073\n",
      "48 ***  4807526976\n",
      "77 ***  7778742049\n",
      "12 ***  12586269025\n",
      "20 ***  20365011074\n",
      "32 ***  32951280099\n",
      "53 ***  53316291173\n",
      "86 ***  86267571272\n",
      "13 ***  139583862445\n",
      "22 ***  225851433717\n",
      "36 ***  365435296162\n",
      "59 ***  591286729879\n",
      "95 ***  956722026041\n",
      "15 ***  1548008755920\n",
      "25 ***  2504730781961\n",
      "40 ***  4052739537881\n",
      "65 ***  6557470319842\n",
      "10 ***  10610209857723\n",
      "17 ***  17167680177565\n",
      "27 ***  27777890035288\n",
      "44 ***  44945570212853\n",
      "72 ***  72723460248141\n",
      "11 ***  117669030460994\n",
      "19 ***  190392490709135\n",
      "30 ***  308061521170129\n",
      "49 ***  498454011879264\n",
      "80 ***  806515533049393\n",
      "13 ***  1304969544928657\n",
      "21 ***  2111485077978050\n",
      "34 ***  3416454622906707\n",
      "55 ***  5527939700884757\n",
      "89 ***  8944394323791464\n",
      "14 ***  14472334024676221\n",
      "23 ***  23416728348467685\n",
      "37 ***  37889062373143906\n",
      "61 ***  61305790721611591\n",
      "99 ***  99194853094755497\n",
      "16 ***  160500643816367088\n",
      "25 ***  259695496911122585\n",
      "42 ***  420196140727489673\n",
      "67 ***  679891637638612258\n",
      "11 ***  1100087778366101931\n",
      "17 ***  1779979416004714189\n",
      "28 ***  2880067194370816120\n",
      "46 ***  4660046610375530309\n",
      "75 ***  7540113804746346429\n",
      "12 ***  12200160415121876738\n",
      "19 ***  19740274219868223167\n",
      "31 ***  31940434634990099905\n",
      "51 ***  51680708854858323072\n",
      "83 ***  83621143489848422977\n",
      "13 ***  135301852344706746049\n",
      "21 ***  218922995834555169026\n",
      "35 ***  354224848179261915075\n",
      "57 ***  573147844013817084101\n"
     ]
    },
    {
     "data": {
      "text/plain": [
       "{10: {'Count': 3,\n",
       "  'Expected_Percentage': 4.139268515822508,\n",
       "  'Caculated_Percentage': 2.9702970297029703},\n",
       " 11: {'Count': 3,\n",
       "  'Expected_Percentage': 3.7788560889399756,\n",
       "  'Caculated_Percentage': 2.9702970297029703},\n",
       " 12: {'Count': 3,\n",
       "  'Expected_Percentage': 3.476210625921191,\n",
       "  'Caculated_Percentage': 2.9702970297029703},\n",
       " 13: {'Count': 5,\n",
       "  'Expected_Percentage': 3.2184683371401235,\n",
       "  'Caculated_Percentage': 4.9504950495049505},\n",
       " 14: {'Count': 3,\n",
       "  'Expected_Percentage': 2.99632233774432,\n",
       "  'Caculated_Percentage': 2.9702970297029703},\n",
       " 15: {'Count': 2,\n",
       "  'Expected_Percentage': 2.8028723600243532,\n",
       "  'Caculated_Percentage': 1.9801980198019802},\n",
       " 16: {'Count': 2,\n",
       "  'Expected_Percentage': 2.6328938722349147,\n",
       "  'Caculated_Percentage': 1.9801980198019802},\n",
       " 17: {'Count': 3,\n",
       "  'Expected_Percentage': 2.4823583725032146,\n",
       "  'Caculated_Percentage': 2.9702970297029703},\n",
       " 18: {'Count': 1,\n",
       "  'Expected_Percentage': 2.34810958495229,\n",
       "  'Caculated_Percentage': 0.9900990099009901},\n",
       " 19: {'Count': 3,\n",
       "  'Expected_Percentage': 2.227639471115221,\n",
       "  'Caculated_Percentage': 2.9702970297029703},\n",
       " 20: {'Count': 1,\n",
       "  'Expected_Percentage': 2.118929906993809,\n",
       "  'Caculated_Percentage': 0.9900990099009901},\n",
       " 21: {'Count': 4,\n",
       "  'Expected_Percentage': 2.0203386088286988,\n",
       "  'Caculated_Percentage': 3.9603960396039604},\n",
       " 22: {'Count': 1,\n",
       "  'Expected_Percentage': 1.9305155195386625,\n",
       "  'Caculated_Percentage': 0.9900990099009901},\n",
       " 23: {'Count': 2,\n",
       "  'Expected_Percentage': 1.8483405694013133,\n",
       "  'Caculated_Percentage': 1.9801980198019802},\n",
       " 24: {'Count': 1,\n",
       "  'Expected_Percentage': 1.7728766960431617,\n",
       "  'Caculated_Percentage': 0.9900990099009901},\n",
       " 25: {'Count': 3,\n",
       "  'Expected_Percentage': 1.703333929878037,\n",
       "  'Caculated_Percentage': 2.9702970297029703},\n",
       " 26: {'Count': 1,\n",
       "  'Expected_Percentage': 1.6390416188169383,\n",
       "  'Caculated_Percentage': 0.9900990099009901},\n",
       " 27: {'Count': 1,\n",
       "  'Expected_Percentage': 1.5794267183231885,\n",
       "  'Caculated_Percentage': 0.9900990099009901},\n",
       " 28: {'Count': 2,\n",
       "  'Expected_Percentage': 1.5239966556736906,\n",
       "  'Caculated_Percentage': 1.9801980198019802},\n",
       " 29: {'Count': 1,\n",
       "  'Expected_Percentage': 1.4723256820706379,\n",
       "  'Caculated_Percentage': 0.9900990099009901},\n",
       " 30: {'Count': 1,\n",
       "  'Expected_Percentage': 1.4240439114610286,\n",
       "  'Caculated_Percentage': 0.9900990099009901},\n",
       " 31: {'Count': 2,\n",
       "  'Expected_Percentage': 1.3788284485633284,\n",
       "  'Caculated_Percentage': 1.9801980198019802},\n",
       " 32: {'Count': 1,\n",
       "  'Expected_Percentage': 1.33639615579815,\n",
       "  'Caculated_Percentage': 0.9900990099009901},\n",
       " 33: {'Count': 0, 'Expected_Percentage': 0},\n",
       " 34: {'Count': 2,\n",
       "  'Expected_Percentage': 1.2589127308020467,\n",
       "  'Caculated_Percentage': 1.9801980198019802},\n",
       " 35: {'Count': 2,\n",
       "  'Expected_Percentage': 1.2234456417011585,\n",
       "  'Caculated_Percentage': 1.9801980198019802},\n",
       " 36: {'Count': 1,\n",
       "  'Expected_Percentage': 1.189922329970769,\n",
       "  'Caculated_Percentage': 0.9900990099009901},\n",
       " 37: {'Count': 2,\n",
       "  'Expected_Percentage': 1.1581872549815138,\n",
       "  'Caculated_Percentage': 1.9801980198019802},\n",
       " 38: {'Count': 0, 'Expected_Percentage': 0},\n",
       " 39: {'Count': 1,\n",
       "  'Expected_Percentage': 1.0995384301463145,\n",
       "  'Caculated_Percentage': 0.9900990099009901},\n",
       " 40: {'Count': 1,\n",
       "  'Expected_Percentage': 1.0723865391773066,\n",
       "  'Caculated_Percentage': 0.9900990099009901},\n",
       " 41: {'Count': 1,\n",
       "  'Expected_Percentage': 1.046543367816498,\n",
       "  'Caculated_Percentage': 0.9900990099009901},\n",
       " 42: {'Count': 1,\n",
       "  'Expected_Percentage': 1.0219165181686027,\n",
       "  'Caculated_Percentage': 0.9900990099009901},\n",
       " 43: {'Count': 1,\n",
       "  'Expected_Percentage': 0.9984220906600924,\n",
       "  'Caculated_Percentage': 0.9900990099009901},\n",
       " 44: {'Count': 1,\n",
       "  'Expected_Percentage': 0.9759837289156239,\n",
       "  'Caculated_Percentage': 0.9900990099009901},\n",
       " 45: {'Count': 0, 'Expected_Percentage': 0},\n",
       " 46: {'Count': 2,\n",
       "  'Expected_Percentage': 0.9340026254143432,\n",
       "  'Caculated_Percentage': 1.9801980198019802},\n",
       " 47: {'Count': 0, 'Expected_Percentage': 0},\n",
       " 48: {'Count': 1,\n",
       "  'Expected_Percentage': 0.8954842652926411,\n",
       "  'Caculated_Percentage': 0.9900990099009901},\n",
       " 49: {'Count': 1,\n",
       "  'Expected_Percentage': 0.8773924307505152,\n",
       "  'Caculated_Percentage': 0.9900990099009901},\n",
       " 50: {'Count': 0, 'Expected_Percentage': 0},\n",
       " 51: {'Count': 2,\n",
       "  'Expected_Percentage': 0.8433167536862765,\n",
       "  'Caculated_Percentage': 1.9801980198019802},\n",
       " 52: {'Count': 0, 'Expected_Percentage': 0},\n",
       " 53: {'Count': 1,\n",
       "  'Expected_Percentage': 0.811789022217946,\n",
       "  'Caculated_Percentage': 0.9900990099009901},\n",
       " 54: {'Count': 0, 'Expected_Percentage': 0},\n",
       " 55: {'Count': 2,\n",
       "  'Expected_Percentage': 0.7825337511956526,\n",
       "  'Caculated_Percentage': 1.9801980198019802},\n",
       " 56: {'Count': 0, 'Expected_Percentage': 0},\n",
       " 57: {'Count': 2,\n",
       "  'Expected_Percentage': 0.7553137890445907,\n",
       "  'Caculated_Percentage': 1.9801980198019802},\n",
       " 58: {'Count': 0, 'Expected_Percentage': 0},\n",
       " 59: {'Count': 1,\n",
       "  'Expected_Percentage': 0.7299238741499423,\n",
       "  'Caculated_Percentage': 0.9900990099009901},\n",
       " 60: {'Count': 0, 'Expected_Percentage': 0},\n",
       " 61: {'Count': 2,\n",
       "  'Expected_Percentage': 0.7061854487486849,\n",
       "  'Caculated_Percentage': 1.9801980198019802},\n",
       " 62: {'Count': 0, 'Expected_Percentage': 0},\n",
       " 63: {'Count': 1,\n",
       "  'Expected_Percentage': 0.6839424530305442,\n",
       "  'Caculated_Percentage': 0.9900990099009901},\n",
       " 64: {'Count': 0, 'Expected_Percentage': 0},\n",
       " 65: {'Count': 1,\n",
       "  'Expected_Percentage': 0.6630578899013075,\n",
       "  'Caculated_Percentage': 0.9900990099009901},\n",
       " 66: {'Count': 0, 'Expected_Percentage': 0},\n",
       " 67: {'Count': 2,\n",
       "  'Expected_Percentage': 0.6434110005409903,\n",
       "  'Caculated_Percentage': 1.9801980198019802},\n",
       " 68: {'Count': 0, 'Expected_Percentage': 0},\n",
       " 69: {'Count': 0, 'Expected_Percentage': 0},\n",
       " 70: {'Count': 1,\n",
       "  'Expected_Percentage': 0.6160308704818434,\n",
       "  'Caculated_Percentage': 0.9900990099009901},\n",
       " 71: {'Count': 0, 'Expected_Percentage': 0},\n",
       " 72: {'Count': 1,\n",
       "  'Expected_Percentage': 0.599036368918742,\n",
       "  'Caculated_Percentage': 0.9900990099009901},\n",
       " 73: {'Count': 0, 'Expected_Percentage': 0},\n",
       " 74: {'Count': 0, 'Expected_Percentage': 0},\n",
       " 75: {'Count': 2,\n",
       "  'Expected_Percentage': 0.5752328889091342,\n",
       "  'Caculated_Percentage': 1.9801980198019802},\n",
       " 76: {'Count': 0, 'Expected_Percentage': 0},\n",
       " 77: {'Count': 1,\n",
       "  'Expected_Percentage': 0.5603877517998485,\n",
       "  'Caculated_Percentage': 0.9900990099009901},\n",
       " 78: {'Count': 0, 'Expected_Percentage': 0},\n",
       " 79: {'Count': 0, 'Expected_Percentage': 0},\n",
       " 80: {'Count': 1,\n",
       "  'Expected_Percentage': 0.5395031886706145,\n",
       "  'Caculated_Percentage': 0.9900990099009901},\n",
       " 81: {'Count': 0, 'Expected_Percentage': 0},\n",
       " 82: {'Count': 0, 'Expected_Percentage': 0},\n",
       " 83: {'Count': 2,\n",
       "  'Expected_Percentage': 0.5201193685807723,\n",
       "  'Caculated_Percentage': 1.9801980198019802},\n",
       " 84: {'Count': 0, 'Expected_Percentage': 0},\n",
       " 85: {'Count': 0, 'Expected_Percentage': 0},\n",
       " 86: {'Count': 1,\n",
       "  'Expected_Percentage': 0.5020801375050812,\n",
       "  'Caculated_Percentage': 0.9900990099009901},\n",
       " 87: {'Count': 0, 'Expected_Percentage': 0},\n",
       " 88: {'Count': 0, 'Expected_Percentage': 0},\n",
       " 89: {'Count': 2,\n",
       "  'Expected_Percentage': 0.4852502794412102,\n",
       "  'Caculated_Percentage': 1.9801980198019802},\n",
       " 90: {'Count': 0, 'Expected_Percentage': 0},\n",
       " 91: {'Count': 0, 'Expected_Percentage': 0},\n",
       " 92: {'Count': 1,\n",
       "  'Expected_Percentage': 0.4695121208379868,\n",
       "  'Caculated_Percentage': 0.9900990099009901},\n",
       " 93: {'Count': 0, 'Expected_Percentage': 0},\n",
       " 94: {'Count': 0, 'Expected_Percentage': 0},\n",
       " 95: {'Count': 1,\n",
       "  'Expected_Percentage': 0.45476277507206614,\n",
       "  'Caculated_Percentage': 0.9900990099009901},\n",
       " 96: {'Count': 0, 'Expected_Percentage': 0},\n",
       " 97: {'Count': 0, 'Expected_Percentage': 0},\n",
       " 98: {'Count': 1,\n",
       "  'Expected_Percentage': 0.4409118905055016,\n",
       "  'Caculated_Percentage': 0.9900990099009901},\n",
       " 99: {'Count': 1,\n",
       "  'Expected_Percentage': 0.43648054024501126,\n",
       "  'Caculated_Percentage': 0.9900990099009901},\n",
       " 'Count': 3}"
      ]
     },
     "execution_count": 15,
     "metadata": {},
     "output_type": "execute_result"
    }
   ],
   "source": [
    "getSecondDigitFrequencyPercentage(fibo)"
   ]
  },
  {
   "cell_type": "code",
   "execution_count": 3,
   "metadata": {},
   "outputs": [
    {
     "data": {
      "text/plain": [
       "0.6733382658968403"
      ]
     },
     "execution_count": 3,
     "metadata": {},
     "output_type": "execute_result"
    }
   ],
   "source": [
    "num='64'\n",
    "abs(math.log10(1+1/int(num))*100)"
   ]
  },
  {
   "cell_type": "code",
   "execution_count": 4,
   "metadata": {},
   "outputs": [],
   "source": [
    "fibo = [1,1]\n",
    "cnt = 2\n",
    "for i in range(1,100):\n",
    "    fibo.append(fibo[cnt-1]+fibo[cnt-2]);\n",
    "    cnt = cnt +1;        \n",
    "        "
   ]
  },
  {
   "cell_type": "code",
   "execution_count": 59,
   "metadata": {},
   "outputs": [],
   "source": [
    "resDict = getDigitFrequenctPercentage(fibo)\n",
    "expectedCount = get_expected_counts(resDict['Count'])"
   ]
  },
  {
   "cell_type": "code",
   "execution_count": 78,
   "metadata": {
    "collapsed": true
   },
   "outputs": [
    {
     "name": "stdout",
     "output_type": "stream",
     "text": [
      "\n",
      "Chi-squared Test Statistic = 2.804\n",
      "Critical value at a P-value of 0.05 is 15.51.\n",
      "True\n",
      "\n",
      " ******************************\n"
     ]
    },
    {
     "ename": "IndexError",
     "evalue": "index 10 is out of bounds for axis 0 with size 10",
     "output_type": "error",
     "traceback": [
      "\u001b[1;31m---------------------------------------------------------------------------\u001b[0m",
      "\u001b[1;31mIndexError\u001b[0m                                Traceback (most recent call last)",
      "\u001b[1;32m<ipython-input-78-a66f4c6f9ddb>\u001b[0m in \u001b[0;36m<module>\u001b[1;34m\u001b[0m\n\u001b[0;32m      6\u001b[0m \u001b[0mexpectedCountSecondOrder\u001b[0m \u001b[1;33m=\u001b[0m \u001b[0mget_expected_counts_second_order\u001b[0m\u001b[1;33m(\u001b[0m\u001b[0mresDictSecondOrder\u001b[0m\u001b[1;33m[\u001b[0m\u001b[1;34m'Count'\u001b[0m\u001b[1;33m]\u001b[0m\u001b[1;33m)\u001b[0m\u001b[1;33m\u001b[0m\u001b[1;33m\u001b[0m\u001b[0m\n\u001b[0;32m      7\u001b[0m \u001b[1;31m#print(resDict)\u001b[0m\u001b[1;33m\u001b[0m\u001b[1;33m\u001b[0m\u001b[1;33m\u001b[0m\u001b[0m\n\u001b[1;32m----> 8\u001b[1;33m \u001b[0mr\u001b[0m \u001b[1;33m=\u001b[0m \u001b[0mconvertDictToListForSecondDigitTest\u001b[0m\u001b[1;33m(\u001b[0m\u001b[0mresDictSecondOrder\u001b[0m\u001b[1;33m)\u001b[0m\u001b[1;33m\u001b[0m\u001b[1;33m\u001b[0m\u001b[0m\n\u001b[0m\u001b[0;32m      9\u001b[0m \u001b[0mchi_square_test\u001b[0m\u001b[1;33m(\u001b[0m\u001b[0mconvertDictToListForSecondDigitTest\u001b[0m\u001b[1;33m(\u001b[0m\u001b[0mresDictSecondOrder\u001b[0m\u001b[1;33m)\u001b[0m\u001b[1;33m,\u001b[0m\u001b[0mexpectedCountSecondOrder\u001b[0m\u001b[1;33m)\u001b[0m\u001b[1;33m\u001b[0m\u001b[1;33m\u001b[0m\u001b[0m\n",
      "\u001b[1;32m<ipython-input-77-7d90b4a6f6f5>\u001b[0m in \u001b[0;36mconvertDictToListForSecondDigitTest\u001b[1;34m(dict_var)\u001b[0m\n\u001b[0;32m     72\u001b[0m             \u001b[1;32mcontinue\u001b[0m\u001b[1;33m;\u001b[0m\u001b[1;33m\u001b[0m\u001b[1;33m\u001b[0m\u001b[0m\n\u001b[0;32m     73\u001b[0m         \u001b[1;32mtry\u001b[0m\u001b[1;33m:\u001b[0m\u001b[1;33m\u001b[0m\u001b[1;33m\u001b[0m\u001b[0m\n\u001b[1;32m---> 74\u001b[1;33m             \u001b[0mcalc_array\u001b[0m\u001b[1;33m[\u001b[0m\u001b[0mcnt\u001b[0m\u001b[1;33m]\u001b[0m \u001b[1;33m=\u001b[0m \u001b[0mdict_var\u001b[0m\u001b[1;33m[\u001b[0m\u001b[0mcalc\u001b[0m\u001b[1;33m]\u001b[0m\u001b[1;33m[\u001b[0m\u001b[1;34m'Caculated_Percentage'\u001b[0m\u001b[1;33m]\u001b[0m\u001b[1;33m\u001b[0m\u001b[1;33m\u001b[0m\u001b[0m\n\u001b[0m\u001b[0;32m     75\u001b[0m         \u001b[1;32mexcept\u001b[0m \u001b[0mKeyError\u001b[0m \u001b[1;33m:\u001b[0m\u001b[1;33m\u001b[0m\u001b[1;33m\u001b[0m\u001b[0m\n\u001b[0;32m     76\u001b[0m             \u001b[0mcalc_array\u001b[0m\u001b[1;33m[\u001b[0m\u001b[0mcnt\u001b[0m\u001b[1;33m]\u001b[0m \u001b[1;33m=\u001b[0m\u001b[1;36m0\u001b[0m\u001b[1;33m\u001b[0m\u001b[1;33m\u001b[0m\u001b[0m\n",
      "\u001b[1;31mIndexError\u001b[0m: index 10 is out of bounds for axis 0 with size 10"
     ]
    }
   ],
   "source": [
    "resDict = getDigitFrequenctPercentage(fibo)\n",
    "expectedCount = get_expected_counts(resDict['Count'])\n",
    "print(chi_square_test(convertDictToList(resDict),expectedCount))\n",
    "print(\"\\n\",\"******************************\")\n",
    "resDictSecondOrder = getSecondDigitFrequencyPercentage(fibo)\n",
    "expectedCountSecondOrder = get_expected_counts_second_order(resDictSecondOrder['Count'])\n",
    "#print(resDict)\n",
    "r = convertDictToListForSecondDigitTest(resDictSecondOrder)\n",
    "chi_square_test(convertDictToListForSecondDigitTest(resDictSecondOrder),expectedCountSecondOrder)"
   ]
  },
  {
   "cell_type": "code",
   "execution_count": 79,
   "metadata": {},
   "outputs": [
    {
     "data": {
      "text/plain": [
       "{1: {'Count': 5,\n",
       "  'Expected_Percentage': 30.10299956639812,\n",
       "  'Caculated_Percentage': 4.9504950495049505},\n",
       " 2: {'Count': 2,\n",
       "  'Expected_Percentage': 17.609125905568124,\n",
       "  'Caculated_Percentage': 1.9801980198019802},\n",
       " 3: {'Count': 2,\n",
       "  'Expected_Percentage': 12.493873660829994,\n",
       "  'Caculated_Percentage': 1.9801980198019802},\n",
       " 4: {'Count': 1,\n",
       "  'Expected_Percentage': 9.691001300805642,\n",
       "  'Caculated_Percentage': 0.9900990099009901},\n",
       " 5: {'Count': 1,\n",
       "  'Expected_Percentage': 7.918124604762482,\n",
       "  'Caculated_Percentage': 0.9900990099009901},\n",
       " 6: {'Count': 0, 'Expected_Percentage': 0},\n",
       " 7: {'Count': 1,\n",
       "  'Expected_Percentage': 5.799194697768673,\n",
       "  'Caculated_Percentage': 0.9900990099009901},\n",
       " 8: {'Count': 2,\n",
       "  'Expected_Percentage': 5.115252244738129,\n",
       "  'Caculated_Percentage': 1.9801980198019802},\n",
       " 9: {'Count': 0, 'Expected_Percentage': 0},\n",
       " 10: {'Count': 0, 'Expected_Percentage': 0},\n",
       " 11: {'Count': 3,\n",
       "  'Expected_Percentage': 3.7788560889399756,\n",
       "  'Caculated_Percentage': 2.9702970297029703},\n",
       " 12: {'Count': 4,\n",
       "  'Expected_Percentage': 3.476210625921191,\n",
       "  'Caculated_Percentage': 3.9603960396039604},\n",
       " 13: {'Count': 2,\n",
       "  'Expected_Percentage': 3.2184683371401235,\n",
       "  'Caculated_Percentage': 1.9801980198019802},\n",
       " 14: {'Count': 1,\n",
       "  'Expected_Percentage': 2.99632233774432,\n",
       "  'Caculated_Percentage': 0.9900990099009901},\n",
       " 15: {'Count': 2,\n",
       "  'Expected_Percentage': 2.8028723600243532,\n",
       "  'Caculated_Percentage': 1.9801980198019802},\n",
       " 16: {'Count': 2,\n",
       "  'Expected_Percentage': 2.6328938722349147,\n",
       "  'Caculated_Percentage': 1.9801980198019802},\n",
       " 17: {'Count': 0, 'Expected_Percentage': 0},\n",
       " 18: {'Count': 0, 'Expected_Percentage': 0},\n",
       " 19: {'Count': 0, 'Expected_Percentage': 0},\n",
       " 20: {'Count': 0, 'Expected_Percentage': 0},\n",
       " 21: {'Count': 3,\n",
       "  'Expected_Percentage': 2.0203386088286988,\n",
       "  'Caculated_Percentage': 2.9702970297029703},\n",
       " 22: {'Count': 1,\n",
       "  'Expected_Percentage': 1.9305155195386625,\n",
       "  'Caculated_Percentage': 0.9900990099009901},\n",
       " 23: {'Count': 1,\n",
       "  'Expected_Percentage': 1.8483405694013133,\n",
       "  'Caculated_Percentage': 0.9900990099009901},\n",
       " 24: {'Count': 1,\n",
       "  'Expected_Percentage': 1.7728766960431617,\n",
       "  'Caculated_Percentage': 0.9900990099009901},\n",
       " 25: {'Count': 0, 'Expected_Percentage': 0},\n",
       " 26: {'Count': 0, 'Expected_Percentage': 0},\n",
       " 27: {'Count': 1,\n",
       "  'Expected_Percentage': 1.5794267183231885,\n",
       "  'Caculated_Percentage': 0.9900990099009901},\n",
       " 28: {'Count': 0, 'Expected_Percentage': 0},\n",
       " 29: {'Count': 1,\n",
       "  'Expected_Percentage': 1.4723256820706379,\n",
       "  'Caculated_Percentage': 0.9900990099009901},\n",
       " 30: {'Count': 0, 'Expected_Percentage': 0},\n",
       " 31: {'Count': 5,\n",
       "  'Expected_Percentage': 1.3788284485633284,\n",
       "  'Caculated_Percentage': 4.9504950495049505},\n",
       " 32: {'Count': 2,\n",
       "  'Expected_Percentage': 1.33639615579815,\n",
       "  'Caculated_Percentage': 1.9801980198019802},\n",
       " 33: {'Count': 0, 'Expected_Percentage': 0},\n",
       " 34: {'Count': 1,\n",
       "  'Expected_Percentage': 1.2589127308020467,\n",
       "  'Caculated_Percentage': 0.9900990099009901},\n",
       " 35: {'Count': 1,\n",
       "  'Expected_Percentage': 1.2234456417011585,\n",
       "  'Caculated_Percentage': 0.9900990099009901},\n",
       " 36: {'Count': 1,\n",
       "  'Expected_Percentage': 1.189922329970769,\n",
       "  'Caculated_Percentage': 0.9900990099009901},\n",
       " 37: {'Count': 0, 'Expected_Percentage': 0},\n",
       " 38: {'Count': 2,\n",
       "  'Expected_Percentage': 1.1281010409689085,\n",
       "  'Caculated_Percentage': 1.9801980198019802},\n",
       " 39: {'Count': 0, 'Expected_Percentage': 0},\n",
       " 40: {'Count': 0, 'Expected_Percentage': 0},\n",
       " 41: {'Count': 3,\n",
       "  'Expected_Percentage': 1.046543367816498,\n",
       "  'Caculated_Percentage': 2.9702970297029703},\n",
       " 42: {'Count': 1,\n",
       "  'Expected_Percentage': 1.0219165181686027,\n",
       "  'Caculated_Percentage': 0.9900990099009901},\n",
       " 43: {'Count': 2,\n",
       "  'Expected_Percentage': 0.9984220906600924,\n",
       "  'Caculated_Percentage': 1.9801980198019802},\n",
       " 44: {'Count': 1,\n",
       "  'Expected_Percentage': 0.9759837289156239,\n",
       "  'Caculated_Percentage': 0.9900990099009901},\n",
       " 45: {'Count': 0, 'Expected_Percentage': 0},\n",
       " 46: {'Count': 0, 'Expected_Percentage': 0},\n",
       " 47: {'Count': 0, 'Expected_Percentage': 0},\n",
       " 48: {'Count': 0, 'Expected_Percentage': 0},\n",
       " 49: {'Count': 0, 'Expected_Percentage': 0},\n",
       " 50: {'Count': 0, 'Expected_Percentage': 0},\n",
       " 51: {'Count': 2,\n",
       "  'Expected_Percentage': 0.8433167536862765,\n",
       "  'Caculated_Percentage': 1.9801980198019802},\n",
       " 52: {'Count': 3,\n",
       "  'Expected_Percentage': 0.8272525965989856,\n",
       "  'Caculated_Percentage': 2.9702970297029703},\n",
       " 53: {'Count': 2,\n",
       "  'Expected_Percentage': 0.811789022217946,\n",
       "  'Caculated_Percentage': 1.9801980198019802},\n",
       " 54: {'Count': 0, 'Expected_Percentage': 0},\n",
       " 55: {'Count': 2,\n",
       "  'Expected_Percentage': 0.7825337511956526,\n",
       "  'Caculated_Percentage': 1.9801980198019802},\n",
       " 56: {'Count': 1,\n",
       "  'Expected_Percentage': 0.7686828666290956,\n",
       "  'Caculated_Percentage': 0.9900990099009901},\n",
       " 57: {'Count': 2,\n",
       "  'Expected_Percentage': 0.7553137890445907,\n",
       "  'Caculated_Percentage': 1.9801980198019802},\n",
       " 58: {'Count': 0, 'Expected_Percentage': 0},\n",
       " 59: {'Count': 1,\n",
       "  'Expected_Percentage': 0.7299238741499423,\n",
       "  'Caculated_Percentage': 0.9900990099009901},\n",
       " 60: {'Count': 0, 'Expected_Percentage': 0},\n",
       " 61: {'Count': 2,\n",
       "  'Expected_Percentage': 0.7061854487486849,\n",
       "  'Caculated_Percentage': 1.9801980198019802},\n",
       " 62: {'Count': 1,\n",
       "  'Expected_Percentage': 0.6948859955327824,\n",
       "  'Caculated_Percentage': 0.9900990099009901},\n",
       " 63: {'Count': 1,\n",
       "  'Expected_Percentage': 0.6839424530305442,\n",
       "  'Caculated_Percentage': 0.9900990099009901},\n",
       " 64: {'Count': 2,\n",
       "  'Expected_Percentage': 0.6733382658968403,\n",
       "  'Caculated_Percentage': 1.9801980198019802},\n",
       " 65: {'Count': 0, 'Expected_Percentage': 0},\n",
       " 66: {'Count': 0, 'Expected_Percentage': 0},\n",
       " 67: {'Count': 0, 'Expected_Percentage': 0},\n",
       " 68: {'Count': 1,\n",
       "  'Expected_Percentage': 0.6340178031018975,\n",
       "  'Caculated_Percentage': 0.9900990099009901},\n",
       " 69: {'Count': 0, 'Expected_Percentage': 0},\n",
       " 70: {'Count': 0, 'Expected_Percentage': 0},\n",
       " 71: {'Count': 3,\n",
       "  'Expected_Percentage': 0.6074147712193165,\n",
       "  'Caculated_Percentage': 2.9702970297029703},\n",
       " 72: {'Count': 1,\n",
       "  'Expected_Percentage': 0.599036368918742,\n",
       "  'Caculated_Percentage': 0.9900990099009901},\n",
       " 73: {'Count': 2,\n",
       "  'Expected_Percentage': 0.5908859610520315,\n",
       "  'Caculated_Percentage': 1.9801980198019802},\n",
       " 74: {'Count': 0, 'Expected_Percentage': 0},\n",
       " 75: {'Count': 2,\n",
       "  'Expected_Percentage': 0.5752328889091342,\n",
       "  'Caculated_Percentage': 1.9801980198019802},\n",
       " 76: {'Count': 2,\n",
       "  'Expected_Percentage': 0.567713289169049,\n",
       "  'Caculated_Percentage': 1.9801980198019802},\n",
       " 77: {'Count': 1,\n",
       "  'Expected_Percentage': 0.5603877517998485,\n",
       "  'Caculated_Percentage': 0.9900990099009901},\n",
       " 78: {'Count': 0, 'Expected_Percentage': 0},\n",
       " 79: {'Count': 0, 'Expected_Percentage': 0},\n",
       " 80: {'Count': 0, 'Expected_Percentage': 0},\n",
       " 81: {'Count': 1,\n",
       "  'Expected_Percentage': 0.5328833505066963,\n",
       "  'Caculated_Percentage': 0.9900990099009901},\n",
       " 82: {'Count': 2,\n",
       "  'Expected_Percentage': 0.5264239992357218,\n",
       "  'Caculated_Percentage': 1.9801980198019802},\n",
       " 83: {'Count': 0, 'Expected_Percentage': 0},\n",
       " 84: {'Count': 1,\n",
       "  'Expected_Percentage': 0.5139639652411057,\n",
       "  'Caculated_Percentage': 0.9900990099009901},\n",
       " 85: {'Count': 0, 'Expected_Percentage': 0},\n",
       " 86: {'Count': 0, 'Expected_Percentage': 0},\n",
       " 87: {'Count': 0, 'Expected_Percentage': 0},\n",
       " 88: {'Count': 0, 'Expected_Percentage': 0},\n",
       " 89: {'Count': 1,\n",
       "  'Expected_Percentage': 0.4852502794412102,\n",
       "  'Caculated_Percentage': 0.9900990099009901},\n",
       " 90: {'Count': 0, 'Expected_Percentage': 0},\n",
       " 91: {'Count': 3,\n",
       "  'Expected_Percentage': 0.47464350244616527,\n",
       "  'Caculated_Percentage': 2.9702970297029703},\n",
       " 92: {'Count': 1,\n",
       "  'Expected_Percentage': 0.4695121208379868,\n",
       "  'Caculated_Percentage': 0.9900990099009901},\n",
       " 93: {'Count': 1,\n",
       "  'Expected_Percentage': 0.4644905045763538,\n",
       "  'Caculated_Percentage': 0.9900990099009901},\n",
       " 94: {'Count': 1,\n",
       "  'Expected_Percentage': 0.45957516891491373,\n",
       "  'Caculated_Percentage': 0.9900990099009901},\n",
       " 95: {'Count': 1,\n",
       "  'Expected_Percentage': 0.45476277507206614,\n",
       "  'Caculated_Percentage': 0.9900990099009901},\n",
       " 96: {'Count': 0, 'Expected_Percentage': 0},\n",
       " 97: {'Count': 0, 'Expected_Percentage': 0},\n",
       " 98: {'Count': 2,\n",
       "  'Expected_Percentage': 0.4409118905055016,\n",
       "  'Caculated_Percentage': 1.9801980198019802},\n",
       " 99: {'Count': 1,\n",
       "  'Expected_Percentage': 0.43648054024501126,\n",
       "  'Caculated_Percentage': 0.9900990099009901},\n",
       " 'Count': 3}"
      ]
     },
     "execution_count": 79,
     "metadata": {},
     "output_type": "execute_result"
    }
   ],
   "source": [
    "resDictSecondOrder"
   ]
  },
  {
   "cell_type": "code",
   "execution_count": 52,
   "metadata": {},
   "outputs": [
    {
     "name": "stdout",
     "output_type": "stream",
     "text": [
      "[1, 1, 0, 0, 0, 0, 0, 0, 0]\n"
     ]
    }
   ],
   "source": [
    "resDict = getSecondDigitFrequencyPercentage(fibo)\n",
    "expectedCount = get_expected_counts(resDict['Count'])\n",
    "print(expectedCount)"
   ]
  },
  {
   "cell_type": "code",
   "execution_count": 50,
   "metadata": {},
   "outputs": [
    {
     "data": {
      "text/plain": [
       "[1, 1, 0, 0, 0, 0, 0, 0, 0]"
      ]
     },
     "execution_count": 50,
     "metadata": {},
     "output_type": "execute_result"
    }
   ],
   "source": [
    "expectedCount"
   ]
  },
  {
   "cell_type": "code",
   "execution_count": 37,
   "metadata": {},
   "outputs": [],
   "source": [
    "calc_array = np.zeros(100)\n",
    "cnt =0;\n",
    "for calc in resDict.keys():\n",
    "    if calc =='Count':\n",
    "        continue;\n",
    "    try:    \n",
    "        calc_array[cnt] = resDict[calc]['Caculated_Percentage']\n",
    "    except KeyError :\n",
    "        calc_array[cnt] =0\n",
    "    cnt = cnt+1"
   ]
  },
  {
   "cell_type": "code",
   "execution_count": 38,
   "metadata": {
    "collapsed": true
   },
   "outputs": [
    {
     "data": {
      "text/plain": [
       "array([4.95049505, 1.98019802, 1.98019802, 0.99009901, 0.99009901,\n",
       "       0.        , 0.99009901, 1.98019802, 0.        , 0.        ,\n",
       "       2.97029703, 3.96039604, 1.98019802, 0.99009901, 1.98019802,\n",
       "       1.98019802, 0.        , 0.        , 0.        , 0.        ,\n",
       "       2.97029703, 0.99009901, 0.99009901, 0.99009901, 0.        ,\n",
       "       0.        , 0.99009901, 0.        , 0.99009901, 0.        ,\n",
       "       4.95049505, 1.98019802, 0.        , 0.99009901, 0.99009901,\n",
       "       0.99009901, 0.        , 1.98019802, 0.        , 0.        ,\n",
       "       2.97029703, 0.99009901, 1.98019802, 0.99009901, 0.        ,\n",
       "       0.        , 0.        , 0.        , 0.        , 0.        ,\n",
       "       1.98019802, 2.97029703, 1.98019802, 0.        , 1.98019802,\n",
       "       0.99009901, 1.98019802, 0.        , 0.99009901, 0.        ,\n",
       "       1.98019802, 0.99009901, 0.99009901, 1.98019802, 0.        ,\n",
       "       0.        , 0.        , 0.99009901, 0.        , 0.        ,\n",
       "       2.97029703, 0.99009901, 1.98019802, 0.        , 1.98019802,\n",
       "       1.98019802, 0.99009901, 0.        , 0.        , 0.        ,\n",
       "       0.99009901, 1.98019802, 0.        , 0.99009901, 0.        ,\n",
       "       0.        , 0.        , 0.        , 0.99009901, 0.        ,\n",
       "       2.97029703, 0.99009901, 0.99009901, 0.99009901, 0.99009901,\n",
       "       0.        , 0.        , 1.98019802, 0.99009901, 0.        ])"
      ]
     },
     "execution_count": 38,
     "metadata": {},
     "output_type": "execute_result"
    }
   ],
   "source": [
    "calc_array"
   ]
  },
  {
   "cell_type": "code",
   "execution_count": 36,
   "metadata": {},
   "outputs": [
    {
     "data": {
      "text/plain": [
       "{'Count': 0, 'Expected_Percentage': 0}"
      ]
     },
     "execution_count": 36,
     "metadata": {},
     "output_type": "execute_result"
    }
   ],
   "source": [
    "resDict[6]"
   ]
  },
  {
   "cell_type": "code",
   "execution_count": 38,
   "metadata": {},
   "outputs": [
    {
     "name": "stdout",
     "output_type": "stream",
     "text": [
      "29.7029702970297 {'Count': 5, 'Expected_Percentage': 30.10299956639812}\n"
     ]
    }
   ],
   "source": [
    "print(getDigitFrequenctPercentage(fibo)[1],getSecondDigitFrequencyPercentage(fibo)[1])"
   ]
  },
  {
   "cell_type": "code",
   "execution_count": 62,
   "metadata": {},
   "outputs": [
    {
     "name": "stdout",
     "output_type": "stream",
     "text": [
      "1.0\n"
     ]
    }
   ],
   "source": [
    "Mad_array=abs((convertDictToList(resDict)-BENFORD_percentage))/10\n",
    "print(round(Mad_array.sum()))"
   ]
  },
  {
   "cell_type": "code",
   "execution_count": 69,
   "metadata": {},
   "outputs": [
    {
     "data": {
      "text/plain": [
       "(100,)"
      ]
     },
     "execution_count": 69,
     "metadata": {},
     "output_type": "execute_result"
    }
   ],
   "source": [
    "convertDictToListForSecondDigitTest(resDictSecondOrder).shape"
   ]
  },
  {
   "cell_type": "code",
   "execution_count": 71,
   "metadata": {},
   "outputs": [
    {
     "data": {
      "text/plain": [
       "[12.0, 11.4, 10.9, 10.4, 10, 9.7, 9.3, 9.0, 8.8, 8.5]"
      ]
     },
     "execution_count": 71,
     "metadata": {},
     "output_type": "execute_result"
    }
   ],
   "source": [
    "BENFORD_percentage_2ndOrder"
   ]
  },
  {
   "cell_type": "code",
   "execution_count": 20,
   "metadata": {},
   "outputs": [
    {
     "name": "stdout",
     "output_type": "stream",
     "text": [
      "6.0\n"
     ]
    }
   ],
   "source": [
    "Mad_array=abs((convertDictToListForSecondDigitTest(resDictSecondOrder)-BENFORD_PROBABILITY_1And2Digit))/10\n",
    "print(round(Mad_array.sum()))"
   ]
  },
  {
   "cell_type": "code",
   "execution_count": 131,
   "metadata": {},
   "outputs": [
    {
     "name": "stdout",
     "output_type": "stream",
     "text": [
      "[38 13 73 10 76  6 80 65 17  2 77 72  7 26 51 21 19 85 12 29]\n"
     ]
    }
   ],
   "source": [
    "# generate random integer values\n",
    "from numpy.random import seed\n",
    "from numpy.random import randint\n",
    "# seed random number generator\n",
    "seed(1)\n",
    "# generate some integers\n",
    "values = randint(1, 100, 20)\n",
    "print(values)"
   ]
  },
  {
   "cell_type": "code",
   "execution_count": 154,
   "metadata": {},
   "outputs": [
    {
     "name": "stdout",
     "output_type": "stream",
     "text": [
      "0\n"
     ]
    }
   ],
   "source": [
    "abs(math.log10(1+1/int(str(42)[0]+str(42)[1])))*100\n",
    "print(resDict2[1]['Count'])"
   ]
  },
  {
   "cell_type": "code",
   "execution_count": 15,
   "metadata": {
    "collapsed": true
   },
   "outputs": [
    {
     "name": "stdout",
     "output_type": "stream",
     "text": [
      "{1: {'Count': 5, 'Expected_Percentage': 30.10299956639812}, 2: {'Count': 2, 'Expected_Percentage': 17.609125905568124}, 3: {'Count': 2, 'Expected_Percentage': 12.493873660829994}, 4: {'Count': 1, 'Expected_Percentage': 9.691001300805642}, 5: {'Count': 1, 'Expected_Percentage': 7.918124604762482}, 6: {'Count': 0, 'Expected_Percentage': 0}, 7: {'Count': 1, 'Expected_Percentage': 5.799194697768673}, 8: {'Count': 2, 'Expected_Percentage': 5.115252244738129}, 9: {'Count': 0, 'Expected_Percentage': 0}, 10: {'Count': 0, 'Expected_Percentage': 0}, 11: {'Count': 3, 'Expected_Percentage': 3.7788560889399756}, 12: {'Count': 4, 'Expected_Percentage': 3.476210625921191}, 13: {'Count': 2, 'Expected_Percentage': 3.2184683371401235}, 14: {'Count': 1, 'Expected_Percentage': 2.99632233774432}, 15: {'Count': 2, 'Expected_Percentage': 2.8028723600243532}, 16: {'Count': 2, 'Expected_Percentage': 2.6328938722349147}, 17: {'Count': 0, 'Expected_Percentage': 0}, 18: {'Count': 0, 'Expected_Percentage': 0}, 19: {'Count': 0, 'Expected_Percentage': 0}, 20: {'Count': 0, 'Expected_Percentage': 0}, 21: {'Count': 3, 'Expected_Percentage': 2.0203386088286988}, 22: {'Count': 1, 'Expected_Percentage': 1.9305155195386625}, 23: {'Count': 1, 'Expected_Percentage': 1.8483405694013133}, 24: {'Count': 1, 'Expected_Percentage': 1.7728766960431617}, 25: {'Count': 0, 'Expected_Percentage': 0}, 26: {'Count': 0, 'Expected_Percentage': 0}, 27: {'Count': 1, 'Expected_Percentage': 1.5794267183231885}, 28: {'Count': 0, 'Expected_Percentage': 0}, 29: {'Count': 1, 'Expected_Percentage': 1.4723256820706379}, 30: {'Count': 0, 'Expected_Percentage': 0}, 31: {'Count': 5, 'Expected_Percentage': 1.3788284485633284}, 32: {'Count': 2, 'Expected_Percentage': 1.33639615579815}, 33: {'Count': 0, 'Expected_Percentage': 0}, 34: {'Count': 1, 'Expected_Percentage': 1.2589127308020467}, 35: {'Count': 1, 'Expected_Percentage': 1.2234456417011585}, 36: {'Count': 1, 'Expected_Percentage': 1.189922329970769}, 37: {'Count': 0, 'Expected_Percentage': 0}, 38: {'Count': 2, 'Expected_Percentage': 1.1281010409689085}, 39: {'Count': 0, 'Expected_Percentage': 0}, 40: {'Count': 0, 'Expected_Percentage': 0}, 41: {'Count': 3, 'Expected_Percentage': 1.046543367816498}, 42: {'Count': 1, 'Expected_Percentage': 1.0219165181686027}, 43: {'Count': 2, 'Expected_Percentage': 0.9984220906600924}, 44: {'Count': 1, 'Expected_Percentage': 0.9759837289156239}, 45: {'Count': 0, 'Expected_Percentage': 0}, 46: {'Count': 0, 'Expected_Percentage': 0}, 47: {'Count': 0, 'Expected_Percentage': 0}, 48: {'Count': 0, 'Expected_Percentage': 0}, 49: {'Count': 0, 'Expected_Percentage': 0}, 50: {'Count': 0, 'Expected_Percentage': 0}, 51: {'Count': 2, 'Expected_Percentage': 0.8433167536862765}, 52: {'Count': 3, 'Expected_Percentage': 0.8272525965989856}, 53: {'Count': 2, 'Expected_Percentage': 0.811789022217946}, 54: {'Count': 0, 'Expected_Percentage': 0}, 55: {'Count': 2, 'Expected_Percentage': 0.7825337511956526}, 56: {'Count': 1, 'Expected_Percentage': 0.7686828666290956}, 57: {'Count': 2, 'Expected_Percentage': 0.7553137890445907}, 58: {'Count': 0, 'Expected_Percentage': 0}, 59: {'Count': 1, 'Expected_Percentage': 0.7299238741499423}, 60: {'Count': 0, 'Expected_Percentage': 0}, 61: {'Count': 2, 'Expected_Percentage': 0.7061854487486849}, 62: {'Count': 1, 'Expected_Percentage': 0.6948859955327824}, 63: {'Count': 1, 'Expected_Percentage': 0.6839424530305442}, 64: {'Count': 2, 'Expected_Percentage': 0.6733382658968403}, 65: {'Count': 0, 'Expected_Percentage': 0}, 66: {'Count': 0, 'Expected_Percentage': 0}, 67: {'Count': 0, 'Expected_Percentage': 0}, 68: {'Count': 1, 'Expected_Percentage': 0.6340178031018975}, 69: {'Count': 0, 'Expected_Percentage': 0}, 70: {'Count': 0, 'Expected_Percentage': 0}, 71: {'Count': 3, 'Expected_Percentage': 0.6074147712193165}, 72: {'Count': 1, 'Expected_Percentage': 0.599036368918742}, 73: {'Count': 2, 'Expected_Percentage': 0.5908859610520315}, 74: {'Count': 0, 'Expected_Percentage': 0}, 75: {'Count': 2, 'Expected_Percentage': 0.5752328889091342}, 76: {'Count': 2, 'Expected_Percentage': 0.567713289169049}, 77: {'Count': 1, 'Expected_Percentage': 0.5603877517998485}, 78: {'Count': 0, 'Expected_Percentage': 0}, 79: {'Count': 0, 'Expected_Percentage': 0}, 80: {'Count': 0, 'Expected_Percentage': 0}, 81: {'Count': 1, 'Expected_Percentage': 0.5328833505066963}, 82: {'Count': 2, 'Expected_Percentage': 0.5264239992357218}, 83: {'Count': 0, 'Expected_Percentage': 0}, 84: {'Count': 1, 'Expected_Percentage': 0.5139639652411057}, 85: {'Count': 0, 'Expected_Percentage': 0}, 86: {'Count': 0, 'Expected_Percentage': 0}, 87: {'Count': 0, 'Expected_Percentage': 0}, 88: {'Count': 0, 'Expected_Percentage': 0}, 89: {'Count': 1, 'Expected_Percentage': 0.4852502794412102}, 90: {'Count': 0, 'Expected_Percentage': 0}, 91: {'Count': 3, 'Expected_Percentage': 0.47464350244616527}, 92: {'Count': 1, 'Expected_Percentage': 0.4695121208379868}, 93: {'Count': 1, 'Expected_Percentage': 0.4644905045763538}, 94: {'Count': 1, 'Expected_Percentage': 0.45957516891491373}, 95: {'Count': 1, 'Expected_Percentage': 0.45476277507206614}, 96: {'Count': 0, 'Expected_Percentage': 0}, 97: {'Count': 0, 'Expected_Percentage': 0}, 98: {'Count': 2, 'Expected_Percentage': 0.4409118905055016}, 99: {'Count': 1, 'Expected_Percentage': 0.43648054024501126}}\n"
     ]
    }
   ],
   "source": [
    "print(getSecondDigitFrequencyPercentage(fibo))\n",
    "\n"
   ]
  },
  {
   "cell_type": "code",
   "execution_count": 13,
   "metadata": {},
   "outputs": [
    {
     "name": "stdout",
     "output_type": "stream",
     "text": [
      "None\n"
     ]
    }
   ],
   "source": [
    "res = getSecondDigitFrequencyPercentage(fibo)\n",
    "print(res)"
   ]
  },
  {
   "cell_type": "code",
   "execution_count": null,
   "metadata": {},
   "outputs": [],
   "source": []
  }
 ],
 "metadata": {
  "kernelspec": {
   "display_name": "Python 3",
   "language": "python",
   "name": "python3"
  },
  "language_info": {
   "codemirror_mode": {
    "name": "ipython",
    "version": 3
   },
   "file_extension": ".py",
   "mimetype": "text/x-python",
   "name": "python",
   "nbconvert_exporter": "python",
   "pygments_lexer": "ipython3",
   "version": "3.7.4"
  }
 },
 "nbformat": 4,
 "nbformat_minor": 2
}
